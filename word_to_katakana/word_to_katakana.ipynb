{
 "cells": [
  {
   "cell_type": "code",
   "execution_count": 5,
   "metadata": {},
   "outputs": [
    {
     "name": "stdout",
     "output_type": "stream",
     "text": [
      "Requirement already satisfied: pykakasi in /home/ravi/.local/lib/python3.8/site-packages (2.2.1)\n",
      "Requirement already satisfied: jaconv in /home/ravi/.local/lib/python3.8/site-packages (from pykakasi) (0.3)\n",
      "Requirement already satisfied: deprecated in /home/ravi/.local/lib/python3.8/site-packages (from pykakasi) (1.2.13)\n",
      "Requirement already satisfied: wrapt<2,>=1.10 in /home/ravi/.local/lib/python3.8/site-packages (from deprecated->pykakasi) (1.13.3)\n",
      "['2.txt', '1.txt']\n",
      "  word  kana\n",
      "0   吾輩  ワガハイ\n",
      "1    は     ハ\n",
      "2    猫    ネコ\n",
      "3  である   デアル\n",
      "4   \\n      \n"
     ]
    },
    {
     "data": {
      "text/html": [
       "<div>\n",
       "<style scoped>\n",
       "    .dataframe tbody tr th:only-of-type {\n",
       "        vertical-align: middle;\n",
       "    }\n",
       "\n",
       "    .dataframe tbody tr th {\n",
       "        vertical-align: top;\n",
       "    }\n",
       "\n",
       "    .dataframe thead th {\n",
       "        text-align: right;\n",
       "    }\n",
       "</style>\n",
       "<table border=\"1\" class=\"dataframe\">\n",
       "  <thead>\n",
       "    <tr style=\"text-align: right;\">\n",
       "      <th></th>\n",
       "      <th>word</th>\n",
       "      <th>kana</th>\n",
       "    </tr>\n",
       "  </thead>\n",
       "  <tbody>\n",
       "    <tr>\n",
       "      <th>count</th>\n",
       "      <td>299</td>\n",
       "      <td>299</td>\n",
       "    </tr>\n",
       "    <tr>\n",
       "      <th>unique</th>\n",
       "      <td>209</td>\n",
       "      <td>204</td>\n",
       "    </tr>\n",
       "    <tr>\n",
       "      <th>top</th>\n",
       "      <td>\\n</td>\n",
       "      <td></td>\n",
       "    </tr>\n",
       "    <tr>\n",
       "      <th>freq</th>\n",
       "      <td>18</td>\n",
       "      <td>19</td>\n",
       "    </tr>\n",
       "  </tbody>\n",
       "</table>\n",
       "</div>"
      ],
      "text/plain": [
       "       word kana\n",
       "count   299  299\n",
       "unique  209  204\n",
       "top      \\n     \n",
       "freq     18   19"
      ]
     },
     "execution_count": 5,
     "metadata": {},
     "output_type": "execute_result"
    }
   ],
   "source": [
    "!pip install pykakasi\n",
    "#importing libraries\n",
    "import os\n",
    "from pykakasi import kakasi\n",
    "import pandas as pd\n",
    "\n",
    "#defining the function to change the word to kana\n",
    "kks= kakasi()\n",
    "f_list=os.listdir(\"files/\")\n",
    "print(f_list)\n",
    "ls1=[]\n",
    "ls2=[]\n",
    "for i in f_list:\n",
    "    f = open(\"files/\"+i, \"r\")\n",
    "    text = f.read()\n",
    "    result = kks.convert(text)\n",
    "    for item in result:\n",
    "        ls1.append(item['orig'])\n",
    "        ls2.append(item['kana'])\n",
    "\n",
    "dict = {\"word\": ls1, \"kana\": ls2}\n",
    "df=pd.DataFrame(dict)\n",
    "print(df.head())\n",
    "df.describe()\n",
    "\n"
   ]
  },
  {
   "cell_type": "code",
   "execution_count": 6,
   "metadata": {},
   "outputs": [
    {
     "name": "stdout",
     "output_type": "stream",
     "text": [
      "  word  kana\n",
      "0   吾輩  ワガハイ\n",
      "1    は     ハ\n",
      "2    猫    ネコ\n",
      "3  である   デアル\n",
      "4   \\n      \n"
     ]
    },
    {
     "data": {
      "text/html": [
       "<div>\n",
       "<style scoped>\n",
       "    .dataframe tbody tr th:only-of-type {\n",
       "        vertical-align: middle;\n",
       "    }\n",
       "\n",
       "    .dataframe tbody tr th {\n",
       "        vertical-align: top;\n",
       "    }\n",
       "\n",
       "    .dataframe thead th {\n",
       "        text-align: right;\n",
       "    }\n",
       "</style>\n",
       "<table border=\"1\" class=\"dataframe\">\n",
       "  <thead>\n",
       "    <tr style=\"text-align: right;\">\n",
       "      <th></th>\n",
       "      <th>word</th>\n",
       "      <th>kana</th>\n",
       "    </tr>\n",
       "  </thead>\n",
       "  <tbody>\n",
       "    <tr>\n",
       "      <th>count</th>\n",
       "      <td>209</td>\n",
       "      <td>209</td>\n",
       "    </tr>\n",
       "    <tr>\n",
       "      <th>unique</th>\n",
       "      <td>209</td>\n",
       "      <td>204</td>\n",
       "    </tr>\n",
       "    <tr>\n",
       "      <th>top</th>\n",
       "      <td>吾輩</td>\n",
       "      <td>ハジメ</td>\n",
       "    </tr>\n",
       "    <tr>\n",
       "      <th>freq</th>\n",
       "      <td>1</td>\n",
       "      <td>2</td>\n",
       "    </tr>\n",
       "  </tbody>\n",
       "</table>\n",
       "</div>"
      ],
      "text/plain": [
       "       word kana\n",
       "count   209  209\n",
       "unique  209  204\n",
       "top      吾輩  ハジメ\n",
       "freq      1    2"
      ]
     },
     "execution_count": 6,
     "metadata": {},
     "output_type": "execute_result"
    }
   ],
   "source": [
    "#removing the duplicates\n",
    "df.drop_duplicates(inplace=True)\n",
    "print(df.head())\n",
    "df.describe()"
   ]
  },
  {
   "cell_type": "code",
   "execution_count": 7,
   "metadata": {},
   "outputs": [
    {
     "name": "stdout",
     "output_type": "stream",
     "text": [
      "['細かい', '挿す', '必ず', '役所', 'は', 'が']\n"
     ]
    },
    {
     "data": {
      "text/html": [
       "<div>\n",
       "<style scoped>\n",
       "    .dataframe tbody tr th:only-of-type {\n",
       "        vertical-align: middle;\n",
       "    }\n",
       "\n",
       "    .dataframe tbody tr th {\n",
       "        vertical-align: top;\n",
       "    }\n",
       "\n",
       "    .dataframe thead th {\n",
       "        text-align: right;\n",
       "    }\n",
       "</style>\n",
       "<table border=\"1\" class=\"dataframe\">\n",
       "  <thead>\n",
       "    <tr style=\"text-align: right;\">\n",
       "      <th></th>\n",
       "      <th>kana</th>\n",
       "    </tr>\n",
       "    <tr>\n",
       "      <th>word</th>\n",
       "      <th></th>\n",
       "    </tr>\n",
       "  </thead>\n",
       "  <tbody>\n",
       "    <tr>\n",
       "      <th>吾輩</th>\n",
       "      <td>ワガハイ</td>\n",
       "    </tr>\n",
       "    <tr>\n",
       "      <th>猫</th>\n",
       "      <td>ネコ</td>\n",
       "    </tr>\n",
       "    <tr>\n",
       "      <th>である</th>\n",
       "      <td>デアル</td>\n",
       "    </tr>\n",
       "    <tr>\n",
       "      <th>\\n</th>\n",
       "      <td></td>\n",
       "    </tr>\n",
       "    <tr>\n",
       "      <th>名前</th>\n",
       "      <td>ナマエ</td>\n",
       "    </tr>\n",
       "  </tbody>\n",
       "</table>\n",
       "</div>"
      ],
      "text/plain": [
       "      kana\n",
       "word      \n",
       "吾輩    ワガハイ\n",
       "猫       ネコ\n",
       "である    デアル\n",
       "\\n        \n",
       "名前     ナマエ"
      ]
     },
     "execution_count": 7,
     "metadata": {},
     "output_type": "execute_result"
    }
   ],
   "source": [
    "#removing the unwanted or already registered word\n",
    "rem_old=['細かい ','細かい', '挿す', '必ず' ,'役所', '既存', 'いつの間にか', '指向', 'エネルギー', '治癒力', '免疫', '欲求', '意思決定', 'カウンセラー', 'テレカンブース', 'オフサイトミーティング', '総延長', '総書記', 'サーキュラーエコノミー', '規格', 'シェアエコノミー'] \n",
    "rem_new=['は','が','が,' ,',', '/n', '']\n",
    "rem_total=rem_old+rem_new\n",
    "wordlist=list(df[\"word\"])\n",
    "comm_word=[x for x in rem_total if x in wordlist]\n",
    "print(comm_word)\n",
    "\n",
    "df_new=df.set_index(\"word\")\n",
    "df_new=df_new.drop(comm_word)\n",
    "df_new.head()\n",
    "\n"
   ]
  },
  {
   "cell_type": "code",
   "execution_count": 8,
   "metadata": {},
   "outputs": [],
   "source": [
    "# writing output to the file\n",
    "df.to_csv('katakana.csv')"
   ]
  }
 ],
 "metadata": {
  "interpreter": {
   "hash": "447c48af7c59a0fc1ccc192ce58edebab5e2c77a5b1f0b3a7442b7a9564ac70d"
  },
  "kernelspec": {
   "display_name": "Python 3.9.7 ('env_2')",
   "language": "python",
   "name": "python3"
  },
  "language_info": {
   "codemirror_mode": {
    "name": "ipython",
    "version": 3
   },
   "file_extension": ".py",
   "mimetype": "text/x-python",
   "name": "python",
   "nbconvert_exporter": "python",
   "pygments_lexer": "ipython3",
   "version": "3.8.10"
  },
  "orig_nbformat": 4
 },
 "nbformat": 4,
 "nbformat_minor": 2
}
